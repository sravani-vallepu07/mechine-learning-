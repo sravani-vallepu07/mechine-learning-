{
 "cells": [
  {
   "cell_type": "code",
   "execution_count": 1,
   "metadata": {},
   "outputs": [],
   "source": [
    "import sqlite3"
   ]
  },
  {
   "cell_type": "code",
   "execution_count": 2,
   "metadata": {},
   "outputs": [
    {
     "data": {
      "text/plain": [
       "<sqlite3.Connection at 0x299f7f1b970>"
      ]
     },
     "execution_count": 2,
     "metadata": {},
     "output_type": "execute_result"
    }
   ],
   "source": [
    "# connect to an SQLite database\n",
    "connection=sqlite3.connect(\"example.db\")\n",
    "connection"
   ]
  },
  {
   "cell_type": "code",
   "execution_count": 3,
   "metadata": {},
   "outputs": [],
   "source": [
    "cursor=connection.cursor()"
   ]
  },
  {
   "cell_type": "code",
   "execution_count": 4,
   "metadata": {},
   "outputs": [],
   "source": [
    "##create a  table\n",
    "cursor.execute('''\n",
    "               create  Table if Not Exists employee(\n",
    "                   id Integer Primary Key,\n",
    "                   name Text Not Null,\n",
    "                   age Integer,\n",
    "                   department text \n",
    "               )\n",
    "               ''')\n",
    "connection.commit()"
   ]
  },
  {
   "cell_type": "code",
   "execution_count": 5,
   "metadata": {},
   "outputs": [
    {
     "data": {
      "text/plain": [
       "<sqlite3.Cursor at 0x299f85fd740>"
      ]
     },
     "execution_count": 5,
     "metadata": {},
     "output_type": "execute_result"
    }
   ],
   "source": [
    "cursor.execute('''\n",
    "               select * from employee\n",
    "               \n",
    "               \n",
    "               \n",
    "               ''')"
   ]
  },
  {
   "cell_type": "code",
   "execution_count": 6,
   "metadata": {},
   "outputs": [],
   "source": [
    "cursor.execute('''\n",
    "               Insert Into employee(name,age,department)\n",
    "               values('srav',19,'data scientist')\n",
    "               \n",
    "               ''')\n",
    "cursor.execute('''\n",
    "               Insert Into employee(name,age,department)\n",
    "               values('venky',20,'data scientist')\n",
    "               \n",
    "               ''')\n",
    "cursor.execute('''\n",
    "               Insert Into employee(name,age,department)\n",
    "               values('durgi',18,'data scientist')\n",
    "               \n",
    "               ''')\n",
    "##commit the changes\n",
    "connection.commit()"
   ]
  },
  {
   "cell_type": "code",
   "execution_count": 7,
   "metadata": {},
   "outputs": [
    {
     "name": "stdout",
     "output_type": "stream",
     "text": [
      "(1, 'srav', 19, 'data scientist')\n",
      "(2, 'venky', 20, 'data scientist')\n",
      "(3, 'durgi', 18, 'data scientist')\n"
     ]
    }
   ],
   "source": [
    "### query the data from the table\n",
    "cursor.execute('select * from employee')\n",
    "rows=cursor.fetchall()\n",
    "for row in rows:\n",
    "    print(row)"
   ]
  },
  {
   "cell_type": "code",
   "execution_count": 8,
   "metadata": {},
   "outputs": [],
   "source": [
    "##update the data in the table\n",
    "cursor.execute('''\n",
    "        UPDATE employee\n",
    "        set age=34\n",
    "        where name=\"srav\"       \n",
    "               \n",
    "               ''')\n",
    "connection.commit()"
   ]
  },
  {
   "cell_type": "code",
   "execution_count": 9,
   "metadata": {},
   "outputs": [
    {
     "name": "stdout",
     "output_type": "stream",
     "text": [
      "(1, 'srav', 34, 'data scientist')\n",
      "(2, 'venky', 20, 'data scientist')\n",
      "(3, 'durgi', 18, 'data scientist')\n"
     ]
    }
   ],
   "source": [
    "### query the data from the table\n",
    "cursor.execute('select * from employee')\n",
    "rows=cursor.fetchall()\n",
    "for row in rows:\n",
    "    print(row)"
   ]
  },
  {
   "cell_type": "code",
   "execution_count": 10,
   "metadata": {},
   "outputs": [],
   "source": [
    "##DELETE THE DATA FROM THE TABLE"
   ]
  },
  {
   "cell_type": "code",
   "execution_count": 11,
   "metadata": {},
   "outputs": [],
   "source": [
    "cursor.execute('''\n",
    "        Delete from employee where name='durgi'  \n",
    "               \n",
    "               ''')\n",
    "connection.commit()"
   ]
  },
  {
   "cell_type": "code",
   "execution_count": 12,
   "metadata": {},
   "outputs": [
    {
     "name": "stdout",
     "output_type": "stream",
     "text": [
      "(1, 'srav', 34, 'data scientist')\n",
      "(2, 'venky', 20, 'data scientist')\n"
     ]
    }
   ],
   "source": [
    "### query the data from the table\n",
    "cursor.execute('select * from employee')\n",
    "rows=cursor.fetchall()\n",
    "for row in rows:\n",
    "    print(row)"
   ]
  },
  {
   "cell_type": "code",
   "execution_count": 13,
   "metadata": {},
   "outputs": [],
   "source": [
    "connection=sqlite3.connect('sales_data.db')\n",
    "cursor=connection.cursor()\n",
    "\n",
    "cursor.execute('''\n",
    "    CREATE TABLE IF NOT EXISTS sales(\n",
    "        id INTEGER PRIMARY KEY,\n",
    "        DATE TEXT NOT NULL,\n",
    "        PRODUCT TEXT NOT NULL,\n",
    "        SALES INTEGER,\n",
    "        REGION TEXT \n",
    "    )                     \n",
    "     ''')\n",
    "sales_data=[('2023-01-01','PRODUCT1',100,'NORTH'),\n",
    "            ('2023-01-02','PRODUCT1',200,'SORTH'),\n",
    "            ('2023-01-03','PRODUCT1',150,'WEST'),\n",
    "            ('2023-01-04','PRODUCT1',250,'WEST'),\n",
    "            ('2023-01-01','PRODUCT1',300,'NORTH')]\n",
    "# connection.commit()\n",
    "cursor.executemany('''\n",
    "                   Insert into sales(DATE,PRODUCT,SALES,REGION)\n",
    "                   values(?,?,?,?)\n",
    "                   ''',sales_data)\n",
    "connection.commit()"
   ]
  },
  {
   "cell_type": "code",
   "execution_count": 14,
   "metadata": {},
   "outputs": [
    {
     "name": "stdout",
     "output_type": "stream",
     "text": [
      "(1, '2023-01-01', 'PRODUCT1', 100, 'NORTH')\n",
      "(2, '2023-01-02', 'PRODUCT1', 200, 'SORTH')\n",
      "(3, '2023-01-03', 'PRODUCT1', 150, 'WEST')\n",
      "(4, '2023-01-04', 'PRODUCT1', 250, 'WEST')\n",
      "(5, '2023-01-01', 'PRODUCT1', 300, 'NORTH')\n"
     ]
    }
   ],
   "source": [
    "### query the data from the table\n",
    "cursor.execute('select * from sales')\n",
    "rows=cursor.fetchall()\n",
    "for row in rows:\n",
    "    print(row)"
   ]
  },
  {
   "cell_type": "code",
   "execution_count": 15,
   "metadata": {},
   "outputs": [],
   "source": [
    "connection.close()"
   ]
  },
  {
   "cell_type": "code",
   "execution_count": 16,
   "metadata": {},
   "outputs": [
    {
     "ename": "ProgrammingError",
     "evalue": "Cannot operate on a closed database.",
     "output_type": "error",
     "traceback": [
      "\u001b[1;31m---------------------------------------------------------------------------\u001b[0m",
      "\u001b[1;31mProgrammingError\u001b[0m                          Traceback (most recent call last)",
      "Cell \u001b[1;32mIn[16], line 1\u001b[0m\n\u001b[1;32m----> 1\u001b[0m cursor\u001b[38;5;241m.\u001b[39mexecute(\u001b[38;5;124m'\u001b[39m\u001b[38;5;124mselect * from sales\u001b[39m\u001b[38;5;124m'\u001b[39m)\n\u001b[0;32m      2\u001b[0m rows\u001b[38;5;241m=\u001b[39mcursor\u001b[38;5;241m.\u001b[39mfetchall()\n\u001b[0;32m      3\u001b[0m \u001b[38;5;28;01mfor\u001b[39;00m row \u001b[38;5;129;01min\u001b[39;00m rows:\n",
      "\u001b[1;31mProgrammingError\u001b[0m: Cannot operate on a closed database."
     ]
    }
   ],
   "source": [
    "cursor.execute('select * from sales')\n",
    "rows=cursor.fetchall()\n",
    "for row in rows:\n",
    "    print(row)"
   ]
  }
 ],
 "metadata": {
  "kernelspec": {
   "display_name": "base",
   "language": "python",
   "name": "python3"
  },
  "language_info": {
   "codemirror_mode": {
    "name": "ipython",
    "version": 3
   },
   "file_extension": ".py",
   "mimetype": "text/x-python",
   "name": "python",
   "nbconvert_exporter": "python",
   "pygments_lexer": "ipython3",
   "version": "3.12.7"
  }
 },
 "nbformat": 4,
 "nbformat_minor": 2
}
