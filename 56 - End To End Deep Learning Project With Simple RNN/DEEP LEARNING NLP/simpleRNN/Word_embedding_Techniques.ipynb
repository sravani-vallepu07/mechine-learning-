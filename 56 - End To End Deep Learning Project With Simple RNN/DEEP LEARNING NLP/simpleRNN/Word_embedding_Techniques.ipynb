{
  "cells": [
    {
      "cell_type": "markdown",
      "metadata": {
        "id": "eHNf7J680XF-"
      },
      "source": [
        "### Word Embedding Techniques using Embedding Layer in Keras"
      ]
    },
    {
      "cell_type": "code",
      "execution_count": 1,
      "metadata": {
        "id": "PEsK0_yl0XGB"
      },
      "outputs": [],
      "source": [
        "### Libraries USed Tensorflow> 2.0  and keras"
      ]
    },
    {
      "cell_type": "code",
      "execution_count": 2,
      "metadata": {
        "colab": {
          "base_uri": "https://localhost:8080/"
        },
        "id": "pslw1Ya90XGC",
        "outputId": "de66f2dd-43d6-4477-9fb8-4ed421b4cbe4"
      },
      "outputs": [
        {
          "name": "stdout",
          "output_type": "stream",
          "text": [
            "Collecting tensorflow-gpu\n",
            "  Using cached tensorflow-gpu-2.12.0.tar.gz (2.6 kB)\n",
            "  Preparing metadata (setup.py): started\n",
            "  Preparing metadata (setup.py): finished with status 'done'\n",
            "Requirement already satisfied: python_version>\"3.7\" in c:\\program files\\python311\\lib\\site-packages (from tensorflow-gpu) (0.0.2)\n",
            "Building wheels for collected packages: tensorflow-gpu\n",
            "  Building wheel for tensorflow-gpu (setup.py): started\n",
            "  Building wheel for tensorflow-gpu (setup.py): finished with status 'error'\n",
            "  Running setup.py clean for tensorflow-gpu\n",
            "Failed to build tensorflow-gpu\n",
            "Installing collected packages: tensorflow-gpu\n",
            "  Running setup.py install for tensorflow-gpu: started\n",
            "  Running setup.py install for tensorflow-gpu: finished with status 'error'\n"
          ]
        },
        {
          "name": "stderr",
          "output_type": "stream",
          "text": [
            "  error: subprocess-exited-with-error\n",
            "  \n",
            "  × python setup.py bdist_wheel did not run successfully.\n",
            "  │ exit code: 1\n",
            "  ╰─> [18 lines of output]\n",
            "      Traceback (most recent call last):\n",
            "        File \"<string>\", line 2, in <module>\n",
            "        File \"<pip-setuptools-caller>\", line 34, in <module>\n",
            "        File \"C:\\Users\\Administrator\\AppData\\Local\\Temp\\pip-install-txgsrdfh\\tensorflow-gpu_dcc0c713bdb045e8a344ddf77c822b65\\setup.py\", line 37, in <module>\n",
            "          raise Exception(TF_REMOVAL_WARNING)\n",
            "      Exception:\n",
            "      \n",
            "      =========================================================\n",
            "      The \"tensorflow-gpu\" package has been removed!\n",
            "      \n",
            "      Please install \"tensorflow\" instead.\n",
            "      \n",
            "      Other than the name, the two packages have been identical\n",
            "      since TensorFlow 2.1, or roughly since Sep 2019. For more\n",
            "      information, see: pypi.org/project/tensorflow-gpu\n",
            "      =========================================================\n",
            "      \n",
            "      \n",
            "      [end of output]\n",
            "  \n",
            "  note: This error originates from a subprocess, and is likely not a problem with pip.\n",
            "  ERROR: Failed building wheel for tensorflow-gpu\n",
            "  error: subprocess-exited-with-error\n",
            "  \n",
            "  × Running setup.py install for tensorflow-gpu did not run successfully.\n",
            "  │ exit code: 1\n",
            "  ╰─> [18 lines of output]\n",
            "      Traceback (most recent call last):\n",
            "        File \"<string>\", line 2, in <module>\n",
            "        File \"<pip-setuptools-caller>\", line 34, in <module>\n",
            "        File \"C:\\Users\\Administrator\\AppData\\Local\\Temp\\pip-install-txgsrdfh\\tensorflow-gpu_dcc0c713bdb045e8a344ddf77c822b65\\setup.py\", line 37, in <module>\n",
            "          raise Exception(TF_REMOVAL_WARNING)\n",
            "      Exception:\n",
            "      \n",
            "      =========================================================\n",
            "      The \"tensorflow-gpu\" package has been removed!\n",
            "      \n",
            "      Please install \"tensorflow\" instead.\n",
            "      \n",
            "      Other than the name, the two packages have been identical\n",
            "      since TensorFlow 2.1, or roughly since Sep 2019. For more\n",
            "      information, see: pypi.org/project/tensorflow-gpu\n",
            "      =========================================================\n",
            "      \n",
            "      \n",
            "      [end of output]\n",
            "  \n",
            "  note: This error originates from a subprocess, and is likely not a problem with pip.\n",
            "error: legacy-install-failure\n",
            "\n",
            "× Encountered error while trying to install package.\n",
            "╰─> tensorflow-gpu\n",
            "\n",
            "note: This is an issue with the package mentioned above, not pip.\n",
            "hint: See above for output from the failure.\n",
            "\n",
            "[notice] A new release of pip available: 22.3 -> 25.1.1\n",
            "[notice] To update, run: python.exe -m pip install --upgrade pip\n"
          ]
        }
      ],
      "source": [
        "!pip install tensorflow-gpu"
      ]
    },
    {
      "cell_type": "code",
      "execution_count": 3,
      "metadata": {
        "colab": {
          "base_uri": "https://localhost:8080/"
        },
        "id": "yZ5hceiMAX7n",
        "outputId": "f8adfe31-96ee-4fa1-b3b9-17edc8bb3ee8"
      },
      "outputs": [
        {
          "name": "stdout",
          "output_type": "stream",
          "text": [
            "WARNING:tensorflow:From c:\\Program Files\\Python311\\Lib\\site-packages\\keras\\src\\losses.py:2976: The name tf.losses.sparse_softmax_cross_entropy is deprecated. Please use tf.compat.v1.losses.sparse_softmax_cross_entropy instead.\n",
            "\n",
            "2.15.1\n"
          ]
        }
      ],
      "source": [
        "import tensorflow as tf\n",
        "print(tf.__version__)"
      ]
    },
    {
      "cell_type": "code",
      "execution_count": 4,
      "metadata": {
        "id": "k4nKifUl0XGC"
      },
      "outputs": [],
      "source": [
        "##tensorflow >2.0\n",
        "from tensorflow.keras.preprocessing.text import one_hot"
      ]
    },
    {
      "cell_type": "code",
      "execution_count": 5,
      "metadata": {
        "id": "Fu9PuYeu0XGD"
      },
      "outputs": [],
      "source": [
        "### sentences\n",
        "sent=[  'the glass of milk',\n",
        "     'the glass of juice',\n",
        "     'the cup of tea',\n",
        "    'I am a good boy',\n",
        "     'I am a good developer',\n",
        "     'understand the meaning of words',\n",
        "     'your videos are good']"
      ]
    },
    {
      "cell_type": "code",
      "execution_count": 6,
      "metadata": {
        "colab": {
          "base_uri": "https://localhost:8080/"
        },
        "id": "x5d1D3_20XGD",
        "outputId": "3e3abb89-c992-4620-b332-696d5728fa3d"
      },
      "outputs": [
        {
          "data": {
            "text/plain": [
              "['the glass of milk',\n",
              " 'the glass of juice',\n",
              " 'the cup of tea',\n",
              " 'I am a good boy',\n",
              " 'I am a good developer',\n",
              " 'understand the meaning of words',\n",
              " 'your videos are good']"
            ]
          },
          "execution_count": 6,
          "metadata": {},
          "output_type": "execute_result"
        }
      ],
      "source": [
        "sent"
      ]
    },
    {
      "cell_type": "code",
      "execution_count": 7,
      "metadata": {
        "id": "tjnXIn3B0XGE"
      },
      "outputs": [],
      "source": [
        "### Vocabulary size\n",
        "voc_size=500"
      ]
    },
    {
      "cell_type": "markdown",
      "metadata": {
        "id": "-vQOdeKk0XGE"
      },
      "source": [
        "#### One Hot Representation"
      ]
    },
    {
      "cell_type": "code",
      "execution_count": 8,
      "metadata": {
        "colab": {
          "base_uri": "https://localhost:8080/"
        },
        "id": "gojfZpAW0XGE",
        "outputId": "edd9dce0-84d3-4fe5-a371-121ccdb726bc"
      },
      "outputs": [
        {
          "name": "stdout",
          "output_type": "stream",
          "text": [
            "[[280, 51, 35, 423], [280, 51, 35, 47], [280, 498, 35, 23], [462, 302, 380, 287, 322], [462, 302, 380, 287, 176], [59, 280, 156, 35, 304], [343, 479, 308, 287]]\n"
          ]
        }
      ],
      "source": [
        "onehot_repr=[one_hot(words,voc_size)for words in sent]\n",
        "print(onehot_repr)"
      ]
    },
    {
      "cell_type": "markdown",
      "metadata": {
        "id": "eYG267x40XGF"
      },
      "source": [
        "### Word Embedding Represntation"
      ]
    },
    {
      "cell_type": "code",
      "execution_count": 9,
      "metadata": {
        "id": "wpqPm0tb0XGF"
      },
      "outputs": [],
      "source": [
        "from tensorflow.keras.layers import Embedding\n",
        "from tensorflow.keras.preprocessing.sequence import pad_sequences\n",
        "from tensorflow.keras.models import Sequential"
      ]
    },
    {
      "cell_type": "code",
      "execution_count": 10,
      "metadata": {
        "id": "Rov3GTM00XGG"
      },
      "outputs": [],
      "source": [
        "import numpy as np"
      ]
    },
    {
      "cell_type": "code",
      "execution_count": 11,
      "metadata": {
        "colab": {
          "base_uri": "https://localhost:8080/"
        },
        "id": "8fQLPw6p0XGG",
        "outputId": "ce86ec66-da15-4988-e300-ff72eeb229ff"
      },
      "outputs": [
        {
          "name": "stdout",
          "output_type": "stream",
          "text": [
            "[[  0   0   0   0 280  51  35 423]\n",
            " [  0   0   0   0 280  51  35  47]\n",
            " [  0   0   0   0 280 498  35  23]\n",
            " [  0   0   0 462 302 380 287 322]\n",
            " [  0   0   0 462 302 380 287 176]\n",
            " [  0   0   0  59 280 156  35 304]\n",
            " [  0   0   0   0 343 479 308 287]]\n"
          ]
        }
      ],
      "source": [
        "## pre padding\n",
        "sent_length=8\n",
        "embedded_docs=pad_sequences(onehot_repr,padding='pre',maxlen=sent_length)\n",
        "print(embedded_docs)"
      ]
    },
    {
      "cell_type": "code",
      "execution_count": 12,
      "metadata": {
        "id": "yjQqBYac0XGG"
      },
      "outputs": [],
      "source": [
        "## 10 feature dimesnions\n",
        "dim=10\n"
      ]
    },
    {
      "cell_type": "code",
      "execution_count": 13,
      "metadata": {
        "id": "ozC-TXrt0XGG"
      },
      "outputs": [
        {
          "name": "stdout",
          "output_type": "stream",
          "text": [
            "WARNING:tensorflow:From c:\\Program Files\\Python311\\Lib\\site-packages\\keras\\src\\backend.py:873: The name tf.get_default_graph is deprecated. Please use tf.compat.v1.get_default_graph instead.\n",
            "\n",
            "WARNING:tensorflow:From c:\\Program Files\\Python311\\Lib\\site-packages\\keras\\src\\optimizers\\__init__.py:309: The name tf.train.Optimizer is deprecated. Please use tf.compat.v1.train.Optimizer instead.\n",
            "\n"
          ]
        }
      ],
      "source": [
        "model=Sequential()\n",
        "model.add(Embedding(voc_size,10,input_length=sent_length))\n",
        "model.compile('adam','mse')"
      ]
    },
    {
      "cell_type": "code",
      "execution_count": 14,
      "metadata": {
        "colab": {
          "base_uri": "https://localhost:8080/"
        },
        "id": "tMNvq-Ji0XGH",
        "outputId": "8bde65d1-06cf-4f8b-9767-28077ff2aeca"
      },
      "outputs": [
        {
          "name": "stdout",
          "output_type": "stream",
          "text": [
            "Model: \"sequential\"\n",
            "_________________________________________________________________\n",
            " Layer (type)                Output Shape              Param #   \n",
            "=================================================================\n",
            " embedding (Embedding)       (None, 8, 10)             5000      \n",
            "                                                                 \n",
            "=================================================================\n",
            "Total params: 5000 (19.53 KB)\n",
            "Trainable params: 5000 (19.53 KB)\n",
            "Non-trainable params: 0 (0.00 Byte)\n",
            "_________________________________________________________________\n"
          ]
        }
      ],
      "source": [
        "model.summary()"
      ]
    },
    {
      "cell_type": "code",
      "execution_count": 15,
      "metadata": {
        "colab": {
          "base_uri": "https://localhost:8080/"
        },
        "id": "FC4Ess_FEcb3",
        "outputId": "e35d2a7c-ff4b-4332-c2c2-dc32249595a6"
      },
      "outputs": [
        {
          "data": {
            "text/plain": [
              "array([  0,   0,   0,   0, 280,  51,  35, 423])"
            ]
          },
          "execution_count": 15,
          "metadata": {},
          "output_type": "execute_result"
        }
      ],
      "source": [
        "##'the glass of milk',\n",
        "embedded_docs[0]"
      ]
    },
    {
      "cell_type": "code",
      "execution_count": 16,
      "metadata": {
        "colab": {
          "base_uri": "https://localhost:8080/"
        },
        "id": "bRqEvMBYEZUS",
        "outputId": "021bd422-238e-4a3f-daa2-09323ef3153a"
      },
      "outputs": [
        {
          "name": "stdout",
          "output_type": "stream",
          "text": [
            "1/1 [==============================] - 0s 402ms/step\n"
          ]
        },
        {
          "data": {
            "text/plain": [
              "array([[ 0.02530635, -0.00472463,  0.02741739, -0.01249427,  0.02710079,\n",
              "        -0.01345848, -0.0003565 , -0.01120494, -0.04765525, -0.00350251],\n",
              "       [ 0.02530635, -0.00472463,  0.02741739, -0.01249427,  0.02710079,\n",
              "        -0.01345848, -0.0003565 , -0.01120494, -0.04765525, -0.00350251],\n",
              "       [ 0.02530635, -0.00472463,  0.02741739, -0.01249427,  0.02710079,\n",
              "        -0.01345848, -0.0003565 , -0.01120494, -0.04765525, -0.00350251],\n",
              "       [ 0.02530635, -0.00472463,  0.02741739, -0.01249427,  0.02710079,\n",
              "        -0.01345848, -0.0003565 , -0.01120494, -0.04765525, -0.00350251],\n",
              "       [ 0.03607016,  0.04824716,  0.01427306,  0.00279273,  0.03320486,\n",
              "        -0.03521453,  0.02083944,  0.01797675, -0.00407379, -0.04244763],\n",
              "       [-0.04869413,  0.04702226,  0.01349585, -0.01253567, -0.00453193,\n",
              "        -0.01112161, -0.01959152,  0.01654562,  0.00421198, -0.00138368],\n",
              "       [-0.02867683, -0.01180737,  0.01183612, -0.0016561 ,  0.02432128,\n",
              "        -0.04978555, -0.01905043,  0.04217939, -0.03282036,  0.04009164],\n",
              "       [-0.00804349, -0.04381187, -0.03228257,  0.0228712 ,  0.00219171,\n",
              "         0.00551709, -0.02399609, -0.03219985,  0.01195847, -0.03583145]],\n",
              "      dtype=float32)"
            ]
          },
          "execution_count": 16,
          "metadata": {},
          "output_type": "execute_result"
        }
      ],
      "source": [
        "model.predict(embedded_docs[0])"
      ]
    },
    {
      "cell_type": "code",
      "execution_count": 17,
      "metadata": {
        "colab": {
          "base_uri": "https://localhost:8080/"
        },
        "id": "kzKP69gx0XGH",
        "outputId": "4558c7ab-6692-4aa3-b958-e7bbfeb0474d"
      },
      "outputs": [
        {
          "name": "stdout",
          "output_type": "stream",
          "text": [
            "1/1 [==============================] - 0s 190ms/step\n",
            "[[[ 0.02530635 -0.00472463  0.02741739 -0.01249427  0.02710079\n",
            "   -0.01345848 -0.0003565  -0.01120494 -0.04765525 -0.00350251]\n",
            "  [ 0.02530635 -0.00472463  0.02741739 -0.01249427  0.02710079\n",
            "   -0.01345848 -0.0003565  -0.01120494 -0.04765525 -0.00350251]\n",
            "  [ 0.02530635 -0.00472463  0.02741739 -0.01249427  0.02710079\n",
            "   -0.01345848 -0.0003565  -0.01120494 -0.04765525 -0.00350251]\n",
            "  [ 0.02530635 -0.00472463  0.02741739 -0.01249427  0.02710079\n",
            "   -0.01345848 -0.0003565  -0.01120494 -0.04765525 -0.00350251]\n",
            "  [ 0.03607016  0.04824716  0.01427306  0.00279273  0.03320486\n",
            "   -0.03521453  0.02083944  0.01797675 -0.00407379 -0.04244763]\n",
            "  [-0.04869413  0.04702226  0.01349585 -0.01253567 -0.00453193\n",
            "   -0.01112161 -0.01959152  0.01654562  0.00421198 -0.00138368]\n",
            "  [-0.02867683 -0.01180737  0.01183612 -0.0016561   0.02432128\n",
            "   -0.04978555 -0.01905043  0.04217939 -0.03282036  0.04009164]\n",
            "  [-0.00804349 -0.04381187 -0.03228257  0.0228712   0.00219171\n",
            "    0.00551709 -0.02399609 -0.03219985  0.01195847 -0.03583145]]\n",
            "\n",
            " [[ 0.02530635 -0.00472463  0.02741739 -0.01249427  0.02710079\n",
            "   -0.01345848 -0.0003565  -0.01120494 -0.04765525 -0.00350251]\n",
            "  [ 0.02530635 -0.00472463  0.02741739 -0.01249427  0.02710079\n",
            "   -0.01345848 -0.0003565  -0.01120494 -0.04765525 -0.00350251]\n",
            "  [ 0.02530635 -0.00472463  0.02741739 -0.01249427  0.02710079\n",
            "   -0.01345848 -0.0003565  -0.01120494 -0.04765525 -0.00350251]\n",
            "  [ 0.02530635 -0.00472463  0.02741739 -0.01249427  0.02710079\n",
            "   -0.01345848 -0.0003565  -0.01120494 -0.04765525 -0.00350251]\n",
            "  [ 0.03607016  0.04824716  0.01427306  0.00279273  0.03320486\n",
            "   -0.03521453  0.02083944  0.01797675 -0.00407379 -0.04244763]\n",
            "  [-0.04869413  0.04702226  0.01349585 -0.01253567 -0.00453193\n",
            "   -0.01112161 -0.01959152  0.01654562  0.00421198 -0.00138368]\n",
            "  [-0.02867683 -0.01180737  0.01183612 -0.0016561   0.02432128\n",
            "   -0.04978555 -0.01905043  0.04217939 -0.03282036  0.04009164]\n",
            "  [ 0.04223284  0.04704897 -0.03198947  0.04502499 -0.00876297\n",
            "   -0.04616664  0.04167128 -0.04311675  0.0368333  -0.04518572]]\n",
            "\n",
            " [[ 0.02530635 -0.00472463  0.02741739 -0.01249427  0.02710079\n",
            "   -0.01345848 -0.0003565  -0.01120494 -0.04765525 -0.00350251]\n",
            "  [ 0.02530635 -0.00472463  0.02741739 -0.01249427  0.02710079\n",
            "   -0.01345848 -0.0003565  -0.01120494 -0.04765525 -0.00350251]\n",
            "  [ 0.02530635 -0.00472463  0.02741739 -0.01249427  0.02710079\n",
            "   -0.01345848 -0.0003565  -0.01120494 -0.04765525 -0.00350251]\n",
            "  [ 0.02530635 -0.00472463  0.02741739 -0.01249427  0.02710079\n",
            "   -0.01345848 -0.0003565  -0.01120494 -0.04765525 -0.00350251]\n",
            "  [ 0.03607016  0.04824716  0.01427306  0.00279273  0.03320486\n",
            "   -0.03521453  0.02083944  0.01797675 -0.00407379 -0.04244763]\n",
            "  [-0.02885448 -0.00171394 -0.03579724 -0.00951247  0.01581639\n",
            "    0.02114456  0.04390948 -0.03266549  0.01910001  0.00468094]\n",
            "  [-0.02867683 -0.01180737  0.01183612 -0.0016561   0.02432128\n",
            "   -0.04978555 -0.01905043  0.04217939 -0.03282036  0.04009164]\n",
            "  [ 0.04996072 -0.01657213  0.02707214 -0.04075085 -0.01853653\n",
            "    0.01930277  0.00163177  0.04805456  0.02700808  0.03366298]]\n",
            "\n",
            " [[ 0.02530635 -0.00472463  0.02741739 -0.01249427  0.02710079\n",
            "   -0.01345848 -0.0003565  -0.01120494 -0.04765525 -0.00350251]\n",
            "  [ 0.02530635 -0.00472463  0.02741739 -0.01249427  0.02710079\n",
            "   -0.01345848 -0.0003565  -0.01120494 -0.04765525 -0.00350251]\n",
            "  [ 0.02530635 -0.00472463  0.02741739 -0.01249427  0.02710079\n",
            "   -0.01345848 -0.0003565  -0.01120494 -0.04765525 -0.00350251]\n",
            "  [-0.00675946  0.01953219 -0.0350221  -0.03047082  0.0124284\n",
            "   -0.03394269 -0.03419819 -0.03501021 -0.02917333  0.02200869]\n",
            "  [ 0.04786773 -0.0472392  -0.02544967 -0.04227538  0.03621085\n",
            "    0.04344094 -0.03457568 -0.02900174  0.03412804 -0.0080497 ]\n",
            "  [ 0.04581373 -0.00632521  0.0227303   0.03063971 -0.04593111\n",
            "    0.00458463 -0.01397402  0.02095512  0.01483143 -0.04636222]\n",
            "  [ 0.04823839 -0.01602878 -0.02783425 -0.0042477  -0.01488656\n",
            "   -0.04208604  0.0071233   0.02581872  0.01989526  0.03385449]\n",
            "  [-0.03892278  0.00035805 -0.0360014   0.01208969 -0.01344363\n",
            "    0.01827481 -0.04928297 -0.03778846  0.02891192 -0.0112073 ]]\n",
            "\n",
            " [[ 0.02530635 -0.00472463  0.02741739 -0.01249427  0.02710079\n",
            "   -0.01345848 -0.0003565  -0.01120494 -0.04765525 -0.00350251]\n",
            "  [ 0.02530635 -0.00472463  0.02741739 -0.01249427  0.02710079\n",
            "   -0.01345848 -0.0003565  -0.01120494 -0.04765525 -0.00350251]\n",
            "  [ 0.02530635 -0.00472463  0.02741739 -0.01249427  0.02710079\n",
            "   -0.01345848 -0.0003565  -0.01120494 -0.04765525 -0.00350251]\n",
            "  [-0.00675946  0.01953219 -0.0350221  -0.03047082  0.0124284\n",
            "   -0.03394269 -0.03419819 -0.03501021 -0.02917333  0.02200869]\n",
            "  [ 0.04786773 -0.0472392  -0.02544967 -0.04227538  0.03621085\n",
            "    0.04344094 -0.03457568 -0.02900174  0.03412804 -0.0080497 ]\n",
            "  [ 0.04581373 -0.00632521  0.0227303   0.03063971 -0.04593111\n",
            "    0.00458463 -0.01397402  0.02095512  0.01483143 -0.04636222]\n",
            "  [ 0.04823839 -0.01602878 -0.02783425 -0.0042477  -0.01488656\n",
            "   -0.04208604  0.0071233   0.02581872  0.01989526  0.03385449]\n",
            "  [-0.01928948  0.01716039  0.02769644 -0.04278031  0.02049819\n",
            "    0.03236915 -0.00140677 -0.0479841  -0.03262123 -0.02650585]]\n",
            "\n",
            " [[ 0.02530635 -0.00472463  0.02741739 -0.01249427  0.02710079\n",
            "   -0.01345848 -0.0003565  -0.01120494 -0.04765525 -0.00350251]\n",
            "  [ 0.02530635 -0.00472463  0.02741739 -0.01249427  0.02710079\n",
            "   -0.01345848 -0.0003565  -0.01120494 -0.04765525 -0.00350251]\n",
            "  [ 0.02530635 -0.00472463  0.02741739 -0.01249427  0.02710079\n",
            "   -0.01345848 -0.0003565  -0.01120494 -0.04765525 -0.00350251]\n",
            "  [ 0.03001187 -0.02986828  0.04692371 -0.0115258  -0.00651861\n",
            "    0.03320951 -0.00492034  0.00357239  0.03942979  0.0494774 ]\n",
            "  [ 0.03607016  0.04824716  0.01427306  0.00279273  0.03320486\n",
            "   -0.03521453  0.02083944  0.01797675 -0.00407379 -0.04244763]\n",
            "  [ 0.01867038  0.03306026  0.0053818  -0.03013813  0.01325088\n",
            "    0.01615759  0.03204849  0.0077403   0.00913326 -0.0319402 ]\n",
            "  [-0.02867683 -0.01180737  0.01183612 -0.0016561   0.02432128\n",
            "   -0.04978555 -0.01905043  0.04217939 -0.03282036  0.04009164]\n",
            "  [ 0.00283859 -0.03322945 -0.0155875   0.03953849 -0.00691088\n",
            "    0.0356865  -0.03090253  0.03033234 -0.01665556 -0.03056493]]\n",
            "\n",
            " [[ 0.02530635 -0.00472463  0.02741739 -0.01249427  0.02710079\n",
            "   -0.01345848 -0.0003565  -0.01120494 -0.04765525 -0.00350251]\n",
            "  [ 0.02530635 -0.00472463  0.02741739 -0.01249427  0.02710079\n",
            "   -0.01345848 -0.0003565  -0.01120494 -0.04765525 -0.00350251]\n",
            "  [ 0.02530635 -0.00472463  0.02741739 -0.01249427  0.02710079\n",
            "   -0.01345848 -0.0003565  -0.01120494 -0.04765525 -0.00350251]\n",
            "  [ 0.02530635 -0.00472463  0.02741739 -0.01249427  0.02710079\n",
            "   -0.01345848 -0.0003565  -0.01120494 -0.04765525 -0.00350251]\n",
            "  [-0.02287006 -0.0020136  -0.03380384  0.03596238 -0.03000325\n",
            "    0.04202889 -0.03197026 -0.00934654  0.03845837  0.03192934]\n",
            "  [-0.02241224  0.02884397  0.0180386   0.01587452 -0.02257211\n",
            "   -0.02152754  0.02135965 -0.0300941   0.01738894 -0.03211229]\n",
            "  [-0.02235142  0.03982735 -0.02430843  0.01863759  0.01326312\n",
            "   -0.04481035 -0.02871686  0.01729145  0.04322991  0.01771231]\n",
            "  [ 0.04823839 -0.01602878 -0.02783425 -0.0042477  -0.01488656\n",
            "   -0.04208604  0.0071233   0.02581872  0.01989526  0.03385449]]]\n"
          ]
        }
      ],
      "source": [
        "print(model.predict(embedded_docs))"
      ]
    },
    {
      "cell_type": "code",
      "execution_count": 18,
      "metadata": {
        "id": "JuUxfk7d0XGH",
        "outputId": "c28e6fc6-3db2-4975-9dd3-950b7da8c67e"
      },
      "outputs": [
        {
          "data": {
            "text/plain": [
              "array([  0,   0,   0,   0, 280,  51,  35, 423])"
            ]
          },
          "execution_count": 18,
          "metadata": {},
          "output_type": "execute_result"
        }
      ],
      "source": [
        "embedded_docs[0]"
      ]
    },
    {
      "cell_type": "code",
      "execution_count": 19,
      "metadata": {
        "id": "6JJ_zD0u0XGH",
        "outputId": "8b2b65cb-457b-46f4-dd60-c5fe8ab0566f"
      },
      "outputs": [
        {
          "name": "stdout",
          "output_type": "stream",
          "text": [
            "1/1 [==============================] - 0s 112ms/step\n",
            "[[ 0.02530635 -0.00472463  0.02741739 -0.01249427  0.02710079 -0.01345848\n",
            "  -0.0003565  -0.01120494 -0.04765525 -0.00350251]\n",
            " [ 0.02530635 -0.00472463  0.02741739 -0.01249427  0.02710079 -0.01345848\n",
            "  -0.0003565  -0.01120494 -0.04765525 -0.00350251]\n",
            " [ 0.02530635 -0.00472463  0.02741739 -0.01249427  0.02710079 -0.01345848\n",
            "  -0.0003565  -0.01120494 -0.04765525 -0.00350251]\n",
            " [ 0.02530635 -0.00472463  0.02741739 -0.01249427  0.02710079 -0.01345848\n",
            "  -0.0003565  -0.01120494 -0.04765525 -0.00350251]\n",
            " [ 0.03607016  0.04824716  0.01427306  0.00279273  0.03320486 -0.03521453\n",
            "   0.02083944  0.01797675 -0.00407379 -0.04244763]\n",
            " [-0.04869413  0.04702226  0.01349585 -0.01253567 -0.00453193 -0.01112161\n",
            "  -0.01959152  0.01654562  0.00421198 -0.00138368]\n",
            " [-0.02867683 -0.01180737  0.01183612 -0.0016561   0.02432128 -0.04978555\n",
            "  -0.01905043  0.04217939 -0.03282036  0.04009164]\n",
            " [-0.00804349 -0.04381187 -0.03228257  0.0228712   0.00219171  0.00551709\n",
            "  -0.02399609 -0.03219985  0.01195847 -0.03583145]]\n"
          ]
        }
      ],
      "source": [
        "print(model.predict(embedded_docs)[0])"
      ]
    },
    {
      "cell_type": "code",
      "execution_count": 20,
      "metadata": {
        "id": "8OMu3iAz0XGH"
      },
      "outputs": [],
      "source": [
        "### Assignment\n",
        "\n",
        "sent=[\"The world is a better place\",\n",
        "      \"Marvel series is my favourite movie\",\n",
        "      \"I like DC movies\",\n",
        "      \"the cat is eating the food\",\n",
        "      \"Tom and Jerry is my favourite movie\",\n",
        "      \"Python is my favourite programming language\"\n",
        "      ]"
      ]
    }
  ],
  "metadata": {
    "accelerator": "GPU",
    "colab": {
      "provenance": []
    },
    "gpuClass": "standard",
    "kernelspec": {
      "display_name": "Python 3",
      "language": "python",
      "name": "python3"
    },
    "language_info": {
      "codemirror_mode": {
        "name": "ipython",
        "version": 3
      },
      "file_extension": ".py",
      "mimetype": "text/x-python",
      "name": "python",
      "nbconvert_exporter": "python",
      "pygments_lexer": "ipython3",
      "version": "3.11.0"
    }
  },
  "nbformat": 4,
  "nbformat_minor": 0
}
