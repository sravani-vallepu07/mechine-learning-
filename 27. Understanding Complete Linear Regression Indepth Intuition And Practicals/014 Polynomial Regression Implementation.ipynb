{
 "cells": [
  {
   "cell_type": "code",
   "execution_count": 219,
   "metadata": {},
   "outputs": [],
   "source": [
    "import numpy as np\n",
    "import pandas as pd\n",
    "import matplotlib.pyplot as plt\n",
    "%matplotlib inline"
   ]
  },
  {
   "cell_type": "code",
   "execution_count": 220,
   "metadata": {},
   "outputs": [
    {
     "data": {
      "image/png": "[encoded data removed]",
      "text/plain": [
       "<Figure size 640x480 with 1 Axes>"
      ]
     },
     "metadata": {},
     "output_type": "display_data"
    }
   ],
   "source": [
    "x=6*np.random.rand(100,1)-3\n",
    "y=0.5* x**2+1.5*x+2+np.random.randn(100,1)\n",
    "# quadratic equation used y=0.5x^2+1.5^2+2+outliers\n",
    "plt.scatter(x,y,color='g')\n",
    "plt.xlabel('x dataset')\n",
    "plt.ylabel('y dataset')\n",
    "plt.show()"
   ]
  },
  {
   "cell_type": "code",
   "execution_count": 221,
   "metadata": {},
   "outputs": [],
   "source": [
    "from sklearn.model_selection import train_test_split\n",
    "x_train,x_test,y_train,y_test=train_test_split(x,y,test_size=0.2,random_state=42)"
   ]
  },
  {
   "cell_type": "code",
   "execution_count": 222,
   "metadata": {},
   "outputs": [],
   "source": [
    "# lets implement linear regression \n",
    "from sklearn.linear_model import LinearRegression\n",
    "regression_l=LinearRegression()\n"
   ]
  },
  {
   "cell_type": "code",
   "execution_count": 223,
   "metadata": {},
   "outputs": [
    {
     "data": {
      "text/html": [
       "<style>#sk-container-id-12 {\n",
       "  /* Definition of color scheme common for light and dark mode */\n",
       "  --sklearn-color-text: black;\n",
       "  --sklearn-color-line: gray;\n",
       "  /* Definition of color scheme for unfitted estimators */\n",
       "  --sklearn-color-unfitted-level-0: #fff5e6;\n",
       "  --sklearn-color-unfitted-level-1: #f6e4d2;\n",
       "  --sklearn-color-unfitted-level-2: #ffe0b3;\n",
       "  --sklearn-color-unfitted-level-3: chocolate;\n",
       "  /* Definition of color scheme for fitted estimators */\n",
       "  --sklearn-color-fitted-level-0: #f0f8ff;\n",
       "  --sklearn-color-fitted-level-1: #d4ebff;\n",
       "  --sklearn-color-fitted-level-2: #b3dbfd;\n",
       "  --sklearn-color-fitted-level-3: cornflowerblue;\n",
       "\n",
       "  /* Specific color for light theme */\n",
       "  --sklearn-color-text-on-default-background: var(--sg-text-color, var(--theme-code-foreground, var(--jp-content-font-color1, black)));\n",
       "  --sklearn-color-background: var(--sg-background-color, var(--theme-background, var(--jp-layout-color0, white)));\n",
       "  --sklearn-color-border-box: var(--sg-text-color, var(--theme-code-foreground, var(--jp-content-font-color1, black)));\n",
       "  --sklearn-color-icon: #696969;\n",
       "\n",
       "  @media (prefers-color-scheme: dark) {\n",
       "    /* Redefinition of color scheme for dark theme */\n",
       "    --sklearn-color-text-on-default-background: var(--sg-text-color, var(--theme-code-foreground, var(--jp-content-font-color1, white)));\n",
       "    --sklearn-color-background: var(--sg-background-color, var(--theme-background, var(--jp-layout-color0, #111)));\n",
       "    --sklearn-color-border-box: var(--sg-text-color, var(--theme-code-foreground, var(--jp-content-font-color1, white)));\n",
       "    --sklearn-color-icon: #878787;\n",
       "  }\n",
       "}\n",
       "\n",
       "#sk-container-id-12 {\n",
       "  color: var(--sklearn-color-text);\n",
       "}\n",
       "\n",
       "#sk-container-id-12 pre {\n",
       "  padding: 0;\n",
       "}\n",
       "\n",
       "#sk-container-id-12 input.sk-hidden--visually {\n",
       "  border: 0;\n",
       "  clip: rect(1px 1px 1px 1px);\n",
       "  clip: rect(1px, 1px, 1px, 1px);\n",
       "  height: 1px;\n",
       "  margin: -1px;\n",
       "  overflow: hidden;\n",
       "  padding: 0;\n",
       "  position: absolute;\n",
       "  width: 1px;\n",
       "}\n",
       "\n",
       "#sk-container-id-12 div.sk-dashed-wrapped {\n",
       "  border: 1px dashed var(--sklearn-color-line);\n",
       "  margin: 0 0.4em 0.5em 0.4em;\n",
       "  box-sizing: border-box;\n",
       "  padding-bottom: 0.4em;\n",
       "  background-color: var(--sklearn-color-background);\n",
       "}\n",
       "\n",
       "#sk-container-id-12 div.sk-container {\n",
       "  /* jupyter's `normalize.less` sets `[hidden] { display: none; }`\n",
       "     but bootstrap.min.css set `[hidden] { display: none !important; }`\n",
       "     so we also need the `!important` here to be able to override the\n",
       "     default hidden behavior on the sphinx rendered scikit-learn.org.\n",
       "     See: https://github.com/scikit-learn/scikit-learn/issues/21755 */\n",
       "  display: inline-block !important;\n",
       "  position: relative;\n",
       "}\n",
       "\n",
       "#sk-container-id-12 div.sk-text-repr-fallback {\n",
       "  display: none;\n",
       "}\n",
       "\n",
       "div.sk-parallel-item,\n",
       "div.sk-serial,\n",
       "div.sk-item {\n",
       "  /* draw centered vertical line to link estimators */\n",
       "  background-image: linear-gradient(var(--sklearn-color-text-on-default-background), var(--sklearn-color-text-on-default-background));\n",
       "  background-size: 2px 100%;\n",
       "  background-repeat: no-repeat;\n",
       "  background-position: center center;\n",
       "}\n",
       "\n",
       "/* Parallel-specific style estimator block */\n",
       "\n",
       "#sk-container-id-12 div.sk-parallel-item::after {\n",
       "  content: \"\";\n",
       "  width: 100%;\n",
       "  border-bottom: 2px solid var(--sklearn-color-text-on-default-background);\n",
       "  flex-grow: 1;\n",
       "}\n",
       "\n",
       "#sk-container-id-12 div.sk-parallel {\n",
       "  display: flex;\n",
       "  align-items: stretch;\n",
       "  justify-content: center;\n",
       "  background-color: var(--sklearn-color-background);\n",
       "  position: relative;\n",
       "}\n",
       "\n",
       "#sk-container-id-12 div.sk-parallel-item {\n",
       "  display: flex;\n",
       "  flex-direction: column;\n",
       "}\n",
       "\n",
       "#sk-container-id-12 div.sk-parallel-item:first-child::after {\n",
       "  align-self: flex-end;\n",
       "  width: 50%;\n",
       "}\n",
       "\n",
       "#sk-container-id-12 div.sk-parallel-item:last-child::after {\n",
       "  align-self: flex-start;\n",
       "  width: 50%;\n",
       "}\n",
       "\n",
       "#sk-container-id-12 div.sk-parallel-item:only-child::after {\n",
       "  width: 0;\n",
       "}\n",
       "\n",
       "/* Serial-specific style estimator block */\n",
       "\n",
       "#sk-container-id-12 div.sk-serial {\n",
       "  display: flex;\n",
       "  flex-direction: column;\n",
       "  align-items: center;\n",
       "  background-color: var(--sklearn-color-background);\n",
       "  padding-right: 1em;\n",
       "  padding-left: 1em;\n",
       "}\n",
       "\n",
       "\n",
       "/* Toggleable style: style used for estimator/Pipeline/ColumnTransformer box that is\n",
       "clickable and can be expanded/collapsed.\n",
       "- Pipeline and ColumnTransformer use this feature and define the default style\n",
       "- Estimators will overwrite some part of the style using the `sk-estimator` class\n",
       "*/\n",
       "\n",
       "/* Pipeline and ColumnTransformer style (default) */\n",
       "\n",
       "#sk-container-id-12 div.sk-toggleable {\n",
       "  /* Default theme specific background. It is overwritten whether we have a\n",
       "  specific estimator or a Pipeline/ColumnTransformer */\n",
       "  background-color: var(--sklearn-color-background);\n",
       "}\n",
       "\n",
       "/* Toggleable label */\n",
       "#sk-container-id-12 label.sk-toggleable__label {\n",
       "  cursor: pointer;\n",
       "  display: block;\n",
       "  width: 100%;\n",
       "  margin-bottom: 0;\n",
       "  padding: 0.5em;\n",
       "  box-sizing: border-box;\n",
       "  text-align: center;\n",
       "}\n",
       "\n",
       "#sk-container-id-12 label.sk-toggleable__label-arrow:before {\n",
       "  /* Arrow on the left of the label */\n",
       "  content: \"▸\";\n",
       "  float: left;\n",
       "  margin-right: 0.25em;\n",
       "  color: var(--sklearn-color-icon);\n",
       "}\n",
       "\n",
       "#sk-container-id-12 label.sk-toggleable__label-arrow:hover:before {\n",
       "  color: var(--sklearn-color-text);\n",
       "}\n",
       "\n",
       "/* Toggleable content - dropdown */\n",
       "\n",
       "#sk-container-id-12 div.sk-toggleable__content {\n",
       "  max-height: 0;\n",
       "  max-width: 0;\n",
       "  overflow: hidden;\n",
       "  text-align: left;\n",
       "  /* unfitted */\n",
       "  background-color: var(--sklearn-color-unfitted-level-0);\n",
       "}\n",
       "\n",
       "#sk-container-id-12 div.sk-toggleable__content.fitted {\n",
       "  /* fitted */\n",
       "  background-color: var(--sklearn-color-fitted-level-0);\n",
       "}\n",
       "\n",
       "#sk-container-id-12 div.sk-toggleable__content pre {\n",
       "  margin: 0.2em;\n",
       "  border-radius: 0.25em;\n",
       "  color: var(--sklearn-color-text);\n",
       "  /* unfitted */\n",
       "  background-color: var(--sklearn-color-unfitted-level-0);\n",
       "}\n",
       "\n",
       "#sk-container-id-12 div.sk-toggleable__content.fitted pre {\n",
       "  /* unfitted */\n",
       "  background-color: var(--sklearn-color-fitted-level-0);\n",
       "}\n",
       "\n",
       "#sk-container-id-12 input.sk-toggleable__control:checked~div.sk-toggleable__content {\n",
       "  /* Expand drop-down */\n",
       "  max-height: 200px;\n",
       "  max-width: 100%;\n",
       "  overflow: auto;\n",
       "}\n",
       "\n",
       "#sk-container-id-12 input.sk-toggleable__control:checked~label.sk-toggleable__label-arrow:before {\n",
       "  content: \"▾\";\n",
       "}\n",
       "\n",
       "/* Pipeline/ColumnTransformer-specific style */\n",
       "\n",
       "#sk-container-id-12 div.sk-label input.sk-toggleable__control:checked~label.sk-toggleable__label {\n",
       "  color: var(--sklearn-color-text);\n",
       "  background-color: var(--sklearn-color-unfitted-level-2);\n",
       "}\n",
       "\n",
       "#sk-container-id-12 div.sk-label.fitted input.sk-toggleable__control:checked~label.sk-toggleable__label {\n",
       "  background-color: var(--sklearn-color-fitted-level-2);\n",
       "}\n",
       "\n",
       "/* Estimator-specific style */\n",
       "\n",
       "/* Colorize estimator box */\n",
       "#sk-container-id-12 div.sk-estimator input.sk-toggleable__control:checked~label.sk-toggleable__label {\n",
       "  /* unfitted */\n",
       "  background-color: var(--sklearn-color-unfitted-level-2);\n",
       "}\n",
       "\n",
       "#sk-container-id-12 div.sk-estimator.fitted input.sk-toggleable__control:checked~label.sk-toggleable__label {\n",
       "  /* fitted */\n",
       "  background-color: var(--sklearn-color-fitted-level-2);\n",
       "}\n",
       "\n",
       "#sk-container-id-12 div.sk-label label.sk-toggleable__label,\n",
       "#sk-container-id-12 div.sk-label label {\n",
       "  /* The background is the default theme color */\n",
       "  color: var(--sklearn-color-text-on-default-background);\n",
       "}\n",
       "\n",
       "/* On hover, darken the color of the background */\n",
       "#sk-container-id-12 div.sk-label:hover label.sk-toggleable__label {\n",
       "  color: var(--sklearn-color-text);\n",
       "  background-color: var(--sklearn-color-unfitted-level-2);\n",
       "}\n",
       "\n",
       "/* Label box, darken color on hover, fitted */\n",
       "#sk-container-id-12 div.sk-label.fitted:hover label.sk-toggleable__label.fitted {\n",
       "  color: var(--sklearn-color-text);\n",
       "  background-color: var(--sklearn-color-fitted-level-2);\n",
       "}\n",
       "\n",
       "/* Estimator label */\n",
       "\n",
       "#sk-container-id-12 div.sk-label label {\n",
       "  font-family: monospace;\n",
       "  font-weight: bold;\n",
       "  display: inline-block;\n",
       "  line-height: 1.2em;\n",
       "}\n",
       "\n",
       "#sk-container-id-12 div.sk-label-container {\n",
       "  text-align: center;\n",
       "}\n",
       "\n",
       "/* Estimator-specific */\n",
       "#sk-container-id-12 div.sk-estimator {\n",
       "  font-family: monospace;\n",
       "  border: 1px dotted var(--sklearn-color-border-box);\n",
       "  border-radius: 0.25em;\n",
       "  box-sizing: border-box;\n",
       "  margin-bottom: 0.5em;\n",
       "  /* unfitted */\n",
       "  background-color: var(--sklearn-color-unfitted-level-0);\n",
       "}\n",
       "\n",
       "#sk-container-id-12 div.sk-estimator.fitted {\n",
       "  /* fitted */\n",
       "  background-color: var(--sklearn-color-fitted-level-0);\n",
       "}\n",
       "\n",
       "/* on hover */\n",
       "#sk-container-id-12 div.sk-estimator:hover {\n",
       "  /* unfitted */\n",
       "  background-color: var(--sklearn-color-unfitted-level-2);\n",
       "}\n",
       "\n",
       "#sk-container-id-12 div.sk-estimator.fitted:hover {\n",
       "  /* fitted */\n",
       "  background-color: var(--sklearn-color-fitted-level-2);\n",
       "}\n",
       "\n",
       "/* Specification for estimator info (e.g. \"i\" and \"?\") */\n",
       "\n",
       "/* Common style for \"i\" and \"?\" */\n",
       "\n",
       ".sk-estimator-doc-link,\n",
       "a:link.sk-estimator-doc-link,\n",
       "a:visited.sk-estimator-doc-link {\n",
       "  float: right;\n",
       "  font-size: smaller;\n",
       "  line-height: 1em;\n",
       "  font-family: monospace;\n",
       "  background-color: var(--sklearn-color-background);\n",
       "  border-radius: 1em;\n",
       "  height: 1em;\n",
       "  width: 1em;\n",
       "  text-decoration: none !important;\n",
       "  margin-left: 1ex;\n",
       "  /* unfitted */\n",
       "  border: var(--sklearn-color-unfitted-level-1) 1pt solid;\n",
       "  color: var(--sklearn-color-unfitted-level-1);\n",
       "}\n",
       "\n",
       ".sk-estimator-doc-link.fitted,\n",
       "a:link.sk-estimator-doc-link.fitted,\n",
       "a:visited.sk-estimator-doc-link.fitted {\n",
       "  /* fitted */\n",
       "  border: var(--sklearn-color-fitted-level-1) 1pt solid;\n",
       "  color: var(--sklearn-color-fitted-level-1);\n",
       "}\n",
       "\n",
       "/* On hover */\n",
       "div.sk-estimator:hover .sk-estimator-doc-link:hover,\n",
       ".sk-estimator-doc-link:hover,\n",
       "div.sk-label-container:hover .sk-estimator-doc-link:hover,\n",
       ".sk-estimator-doc-link:hover {\n",
       "  /* unfitted */\n",
       "  background-color: var(--sklearn-color-unfitted-level-3);\n",
       "  color: var(--sklearn-color-background);\n",
       "  text-decoration: none;\n",
       "}\n",
       "\n",
       "div.sk-estimator.fitted:hover .sk-estimator-doc-link.fitted:hover,\n",
       ".sk-estimator-doc-link.fitted:hover,\n",
       "div.sk-label-container:hover .sk-estimator-doc-link.fitted:hover,\n",
       ".sk-estimator-doc-link.fitted:hover {\n",
       "  /* fitted */\n",
       "  background-color: var(--sklearn-color-fitted-level-3);\n",
       "  color: var(--sklearn-color-background);\n",
       "  text-decoration: none;\n",
       "}\n",
       "\n",
       "/* Span, style for the box shown on hovering the info icon */\n",
       ".sk-estimator-doc-link span {\n",
       "  display: none;\n",
       "  z-index: 9999;\n",
       "  position: relative;\n",
       "  font-weight: normal;\n",
       "  right: .2ex;\n",
       "  padding: .5ex;\n",
       "  margin: .5ex;\n",
       "  width: min-content;\n",
       "  min-width: 20ex;\n",
       "  max-width: 50ex;\n",
       "  color: var(--sklearn-color-text);\n",
       "  box-shadow: 2pt 2pt 4pt #999;\n",
       "  /* unfitted */\n",
       "  background: var(--sklearn-color-unfitted-level-0);\n",
       "  border: .5pt solid var(--sklearn-color-unfitted-level-3);\n",
       "}\n",
       "\n",
       ".sk-estimator-doc-link.fitted span {\n",
       "  /* fitted */\n",
       "  background: var(--sklearn-color-fitted-level-0);\n",
       "  border: var(--sklearn-color-fitted-level-3);\n",
       "}\n",
       "\n",
       ".sk-estimator-doc-link:hover span {\n",
       "  display: block;\n",
       "}\n",
       "\n",
       "/* \"?\"-specific style due to the `<a>` HTML tag */\n",
       "\n",
       "#sk-container-id-12 a.estimator_doc_link {\n",
       "  float: right;\n",
       "  font-size: 1rem;\n",
       "  line-height: 1em;\n",
       "  font-family: monospace;\n",
       "  background-color: var(--sklearn-color-background);\n",
       "  border-radius: 1rem;\n",
       "  height: 1rem;\n",
       "  width: 1rem;\n",
       "  text-decoration: none;\n",
       "  /* unfitted */\n",
       "  color: var(--sklearn-color-unfitted-level-1);\n",
       "  border: var(--sklearn-color-unfitted-level-1) 1pt solid;\n",
       "}\n",
       "\n",
       "#sk-container-id-12 a.estimator_doc_link.fitted {\n",
       "  /* fitted */\n",
       "  border: var(--sklearn-color-fitted-level-1) 1pt solid;\n",
       "  color: var(--sklearn-color-fitted-level-1);\n",
       "}\n",
       "\n",
       "/* On hover */\n",
       "#sk-container-id-12 a.estimator_doc_link:hover {\n",
       "  /* unfitted */\n",
       "  background-color: var(--sklearn-color-unfitted-level-3);\n",
       "  color: var(--sklearn-color-background);\n",
       "  text-decoration: none;\n",
       "}\n",
       "\n",
       "#sk-container-id-12 a.estimator_doc_link.fitted:hover {\n",
       "  /* fitted */\n",
       "  background-color: var(--sklearn-color-fitted-level-3);\n",
       "}\n",
       "</style><div id=\"sk-container-id-12\" class=\"sk-top-container\"><div class=\"sk-text-repr-fallback\"><pre>LinearRegression()</pre><b>In a Jupyter environment, please rerun this cell to show the HTML representation or trust the notebook. <br />On GitHub, the HTML representation is unable to render, please try loading this page with nbviewer.org.</b></div><div class=\"sk-container\" hidden><div class=\"sk-item\"><div class=\"sk-estimator fitted sk-toggleable\"><input class=\"sk-toggleable__control sk-hidden--visually\" id=\"sk-estimator-id-12\" type=\"checkbox\" checked><label for=\"sk-estimator-id-12\" class=\"sk-toggleable__label fitted sk-toggleable__label-arrow fitted\">&nbsp;&nbsp;LinearRegression<a class=\"sk-estimator-doc-link fitted\" rel=\"noreferrer\" target=\"_blank\" href=\"https://scikit-learn.org/1.5/modules/generated/sklearn.linear_model.LinearRegression.html\">?<span>Documentation for LinearRegression</span></a><span class=\"sk-estimator-doc-link fitted\">i<span>Fitted</span></span></label><div class=\"sk-toggleable__content fitted\"><pre>LinearRegression()</pre></div> </div></div></div></div>"
      ],
      "text/plain": [
       "LinearRegression()"
      ]
     },
     "execution_count": 223,
     "metadata": {},
     "output_type": "execute_result"
    }
   ],
   "source": [
    "regression_l.fit(x_train,y_train)"
   ]
  },
  {
   "cell_type": "code",
   "execution_count": 224,
   "metadata": {},
   "outputs": [
    {
     "name": "stdout",
     "output_type": "stream",
     "text": [
      "0.8433463565945303\n"
     ]
    }
   ],
   "source": [
    "from sklearn.metrics import r2_score\n",
    "score=r2_score(y_test,regression_l.predict(x_test))\n",
    "print(score)"
   ]
  },
  {
   "cell_type": "code",
   "execution_count": 225,
   "metadata": {},
   "outputs": [
    {
     "data": {
      "image/png": "[encoded data removed]",
      "text/plain": [
       "<Figure size 640x480 with 1 Axes>"
      ]
     },
     "metadata": {},
     "output_type": "display_data"
    }
   ],
   "source": [
    "plt.plot(x_train,regression_l.predict(x_train),color='r')\n",
    "plt.scatter(x_train,y_train)\n",
    "plt.xlabel(\"x dataset\")\n",
    "plt.ylabel(\"y\")\n",
    "plt.show()"
   ]
  },
  {
   "cell_type": "code",
   "execution_count": 226,
   "metadata": {},
   "outputs": [],
   "source": [
    "# lets apply polynomial tranformation\n",
    "from sklearn.preprocessing import PolynomialFeatures\n",
    "poly=PolynomialFeatures(degree=2,include_bias=True)\n",
    "x_train_poly=poly.fit_transform(x_train)\n",
    "x_test_poly=poly.transform(x_test)\n"
   ]
  },
  {
   "cell_type": "code",
   "execution_count": 227,
   "metadata": {},
   "outputs": [
    {
     "data": {
      "text/plain": [
       "array([[ 1.00000000e+00, -1.94676193e+00,  3.78988200e+00],\n",
       "       [ 1.00000000e+00,  2.37495400e+00,  5.64040650e+00],\n",
       "       [ 1.00000000e+00,  2.58793548e+00,  6.69741005e+00],\n",
       "       [ 1.00000000e+00, -3.95112127e-01,  1.56113593e-01],\n",
       "       [ 1.00000000e+00, -1.92214017e+00,  3.69462285e+00],\n",
       "       [ 1.00000000e+00,  2.52697137e+00,  6.38558431e+00],\n",
       "       [ 1.00000000e+00, -9.53048436e-01,  9.08301321e-01],\n",
       "       [ 1.00000000e+00, -4.63871449e-01,  2.15176721e-01],\n",
       "       [ 1.00000000e+00, -3.21718006e-01,  1.03502476e-01],\n",
       "       [ 1.00000000e+00,  1.58450247e+00,  2.51064807e+00],\n",
       "       [ 1.00000000e+00,  2.34206695e+00,  5.48527760e+00],\n",
       "       [ 1.00000000e+00, -1.03486706e+00,  1.07094984e+00],\n",
       "       [ 1.00000000e+00,  2.59836566e+00,  6.75150410e+00],\n",
       "       [ 1.00000000e+00, -1.26445400e+00,  1.59884392e+00],\n",
       "       [ 1.00000000e+00, -1.61465813e+00,  2.60712087e+00],\n",
       "       [ 1.00000000e+00, -1.63088737e+00,  2.65979361e+00],\n",
       "       [ 1.00000000e+00,  8.81224184e-01,  7.76556063e-01],\n",
       "       [ 1.00000000e+00,  1.82827361e+00,  3.34258441e+00],\n",
       "       [ 1.00000000e+00, -1.40946813e+00,  1.98660041e+00],\n",
       "       [ 1.00000000e+00,  1.88006442e+00,  3.53464221e+00],\n",
       "       [ 1.00000000e+00,  1.65776091e+00,  2.74817123e+00],\n",
       "       [ 1.00000000e+00, -3.77314476e-01,  1.42366214e-01],\n",
       "       [ 1.00000000e+00, -3.12232760e-01,  9.74892962e-02],\n",
       "       [ 1.00000000e+00,  7.94169382e-01,  6.30705007e-01],\n",
       "       [ 1.00000000e+00, -7.56132491e-01,  5.71736344e-01],\n",
       "       [ 1.00000000e+00,  6.84592953e-01,  4.68667511e-01],\n",
       "       [ 1.00000000e+00, -2.09570077e+00,  4.39196173e+00],\n",
       "       [ 1.00000000e+00, -5.90376784e-02,  3.48544747e-03],\n",
       "       [ 1.00000000e+00,  1.85234598e-01,  3.43118562e-02],\n",
       "       [ 1.00000000e+00, -2.36598465e+00,  5.59788335e+00],\n",
       "       [ 1.00000000e+00, -5.53111478e-01,  3.05932307e-01],\n",
       "       [ 1.00000000e+00, -8.40746531e-01,  7.06854730e-01],\n",
       "       [ 1.00000000e+00,  4.39661597e-01,  1.93302320e-01],\n",
       "       [ 1.00000000e+00,  1.06344760e+00,  1.13092079e+00],\n",
       "       [ 1.00000000e+00,  3.12853751e-02,  9.78774694e-04],\n",
       "       [ 1.00000000e+00,  1.81983151e+00,  3.31178672e+00],\n",
       "       [ 1.00000000e+00,  2.06074886e+00,  4.24668585e+00],\n",
       "       [ 1.00000000e+00, -2.26170731e+00,  5.11531996e+00],\n",
       "       [ 1.00000000e+00,  1.84083059e+00,  3.38865724e+00],\n",
       "       [ 1.00000000e+00, -2.83345251e+00,  8.02845313e+00],\n",
       "       [ 1.00000000e+00,  1.46815705e+00,  2.15548514e+00],\n",
       "       [ 1.00000000e+00,  1.71680281e+00,  2.94741189e+00],\n",
       "       [ 1.00000000e+00, -1.06789643e+00,  1.14040279e+00],\n",
       "       [ 1.00000000e+00, -5.97628062e-01,  3.57159301e-01],\n",
       "       [ 1.00000000e+00,  1.00994903e+00,  1.01999704e+00],\n",
       "       [ 1.00000000e+00,  9.99595585e-01,  9.99191333e-01],\n",
       "       [ 1.00000000e+00,  4.34011283e-01,  1.88365794e-01],\n",
       "       [ 1.00000000e+00,  2.28095532e+00,  5.20275717e+00],\n",
       "       [ 1.00000000e+00,  2.14453074e+00,  4.59901208e+00],\n",
       "       [ 1.00000000e+00,  2.95212379e+00,  8.71503487e+00],\n",
       "       [ 1.00000000e+00,  1.06485446e+00,  1.13391503e+00],\n",
       "       [ 1.00000000e+00,  5.60709689e-01,  3.14395356e-01],\n",
       "       [ 1.00000000e+00,  2.49538541e+00,  6.22694834e+00],\n",
       "       [ 1.00000000e+00, -5.96273466e-01,  3.55542047e-01],\n",
       "       [ 1.00000000e+00,  2.12079950e+00,  4.49779054e+00],\n",
       "       [ 1.00000000e+00, -1.01083195e+00,  1.02178123e+00],\n",
       "       [ 1.00000000e+00,  2.30987428e+00,  5.33551918e+00],\n",
       "       [ 1.00000000e+00, -2.51706971e-01,  6.33563993e-02],\n",
       "       [ 1.00000000e+00, -2.68005280e+00,  7.18268300e+00],\n",
       "       [ 1.00000000e+00,  2.13335270e+00,  4.55119376e+00],\n",
       "       [ 1.00000000e+00, -1.77306695e+00,  3.14376642e+00],\n",
       "       [ 1.00000000e+00, -1.58314620e+00,  2.50635190e+00],\n",
       "       [ 1.00000000e+00, -2.78515262e+00,  7.75707513e+00],\n",
       "       [ 1.00000000e+00,  1.55888083e+00,  2.43010943e+00],\n",
       "       [ 1.00000000e+00,  1.62278578e+00,  2.63343368e+00],\n",
       "       [ 1.00000000e+00, -1.79035154e+00,  3.20535863e+00],\n",
       "       [ 1.00000000e+00,  2.54910437e+00,  6.49793308e+00],\n",
       "       [ 1.00000000e+00, -2.56479523e+00,  6.57817456e+00],\n",
       "       [ 1.00000000e+00, -2.09364914e+00,  4.38336673e+00],\n",
       "       [ 1.00000000e+00,  1.42958532e+00,  2.04371418e+00],\n",
       "       [ 1.00000000e+00,  2.95045144e-01,  8.70516373e-02],\n",
       "       [ 1.00000000e+00, -2.00386178e+00,  4.01546202e+00],\n",
       "       [ 1.00000000e+00,  1.61350843e+00,  2.60340946e+00],\n",
       "       [ 1.00000000e+00, -6.98377072e-01,  4.87730534e-01],\n",
       "       [ 1.00000000e+00,  3.61650220e-01,  1.30790881e-01],\n",
       "       [ 1.00000000e+00,  5.15301923e-01,  2.65536072e-01],\n",
       "       [ 1.00000000e+00,  7.63118358e-01,  5.82349629e-01],\n",
       "       [ 1.00000000e+00,  2.72941478e+00,  7.44970503e+00],\n",
       "       [ 1.00000000e+00,  1.27482019e+00,  1.62516651e+00],\n",
       "       [ 1.00000000e+00, -2.80968653e+00,  7.89433841e+00]])"
      ]
     },
     "execution_count": 227,
     "metadata": {},
     "output_type": "execute_result"
    }
   ],
   "source": [
    "x_train_poly"
   ]
  },
  {
   "cell_type": "code",
   "execution_count": 228,
   "metadata": {},
   "outputs": [
    {
     "data": {
      "text/plain": [
       "array([[ 1.        ,  1.45778162,  2.12512726],\n",
       "       [ 1.        ,  0.71694644,  0.51401219],\n",
       "       [ 1.        , -1.97699005,  3.90848964],\n",
       "       [ 1.        ,  1.34201949,  1.80101631],\n",
       "       [ 1.        , -2.10525328,  4.43209138],\n",
       "       [ 1.        ,  2.56436751,  6.57598074],\n",
       "       [ 1.        , -0.8765371 ,  0.7683173 ],\n",
       "       [ 1.        ,  1.99390095,  3.975641  ],\n",
       "       [ 1.        , -2.32005391,  5.38265013],\n",
       "       [ 1.        , -2.41209984,  5.81822563],\n",
       "       [ 1.        ,  2.34419708,  5.49525995],\n",
       "       [ 1.        , -0.79956355,  0.63930187],\n",
       "       [ 1.        ,  1.78263171,  3.1777758 ],\n",
       "       [ 1.        ,  0.36449965,  0.13285999],\n",
       "       [ 1.        , -2.42661899,  5.88847972],\n",
       "       [ 1.        ,  1.74039944,  3.02899023],\n",
       "       [ 1.        , -2.11363692,  4.46746103],\n",
       "       [ 1.        ,  1.08301873,  1.17292958],\n",
       "       [ 1.        ,  1.93714235,  3.75252048],\n",
       "       [ 1.        ,  2.75225035,  7.57488198]])"
      ]
     },
     "execution_count": 228,
     "metadata": {},
     "output_type": "execute_result"
    }
   ],
   "source": [
    "x_test_poly"
   ]
  },
  {
   "cell_type": "code",
   "execution_count": 229,
   "metadata": {},
   "outputs": [
    {
     "name": "stdout",
     "output_type": "stream",
     "text": [
      "0.9240942485706773\n"
     ]
    }
   ],
   "source": [
    "from sklearn.metrics import r2_score\n",
    "regression=LinearRegression()\n",
    "regression.fit(x_train_poly,y_train)\n",
    "y_pred=regression.predict(x_test_poly)\n",
    "score=r2_score(y_test,y_pred)\n",
    "print(score)"
   ]
  },
  {
   "cell_type": "code",
   "execution_count": 230,
   "metadata": {},
   "outputs": [
    {
     "name": "stdout",
     "output_type": "stream",
     "text": [
      "[[0.         1.51224691 0.57797291]]\n"
     ]
    }
   ],
   "source": [
    "print(regression.coef_)"
   ]
  },
  {
   "cell_type": "code",
   "execution_count": 231,
   "metadata": {},
   "outputs": [
    {
     "name": "stdout",
     "output_type": "stream",
     "text": [
      "[2.02232529]\n"
     ]
    }
   ],
   "source": [
    "print(regression.intercept_)"
   ]
  },
  {
   "cell_type": "code",
   "execution_count": 232,
   "metadata": {},
   "outputs": [
    {
     "data": {
      "image/png": "[encoded data removed]",
      "text/plain": [
       "<Figure size 640x480 with 1 Axes>"
      ]
     },
     "metadata": {},
     "output_type": "display_data"
    }
   ],
   "source": [
    "plt.scatter(x_train,regression.predict(x_train_poly))\n",
    "plt.scatter(x_train,y_train)\n",
    "plt.show()"
   ]
  },
  {
   "cell_type": "code",
   "execution_count": 247,
   "metadata": {},
   "outputs": [],
   "source": [
    "# lets apply polynomial tranformation\n",
    "poly=PolynomialFeatures(degree=16,include_bias=True)\n",
    "x_train_poly=poly.fit_transform(x_train)\n",
    "x_test_poly=poly.transform(x_test)"
   ]
  },
  {
   "cell_type": "code",
   "execution_count": 248,
   "metadata": {},
   "outputs": [
    {
     "data": {
      "text/plain": [
       "array([[ 1.00000000e+00, -1.94676193e+00,  3.78988200e+00, ...,\n",
       "         1.12300015e+04, -2.18621393e+04,  4.25603804e+04],\n",
       "       [ 1.00000000e+00,  2.37495400e+00,  5.64040650e+00, ...,\n",
       "         1.81623831e+05,  4.31348244e+05,  1.02443224e+06],\n",
       "       [ 1.00000000e+00,  2.58793548e+00,  6.69741005e+00, ...,\n",
       "         6.04433085e+05,  1.56423383e+06,  4.04813622e+06],\n",
       "       ...,\n",
       "       [ 1.00000000e+00,  2.72941478e+00,  7.44970503e+00, ...,\n",
       "         1.27342550e+06,  3.47570637e+06,  9.48664434e+06],\n",
       "       [ 1.00000000e+00,  1.27482019e+00,  1.62516651e+00, ...,\n",
       "         2.99422931e+01,  3.81710397e+01,  4.86612120e+01],\n",
       "       [ 1.00000000e+00, -2.80968653e+00,  7.89433841e+00, ...,\n",
       "         1.91077776e+06, -5.36868655e+06,  1.50843263e+07]])"
      ]
     },
     "execution_count": 248,
     "metadata": {},
     "output_type": "execute_result"
    }
   ],
   "source": [
    "x_train_poly"
   ]
  },
  {
   "cell_type": "code",
   "execution_count": 249,
   "metadata": {},
   "outputs": [
    {
     "name": "stdout",
     "output_type": "stream",
     "text": [
      "0.9072799298880978\n"
     ]
    }
   ],
   "source": [
    "from sklearn.metrics import r2_score\n",
    "regression=LinearRegression()\n",
    "regression.fit(x_train_poly,y_train)\n",
    "y_pred=regression.predict(x_test_poly)\n",
    "score=r2_score(y_test,y_pred)\n",
    "print(score)"
   ]
  },
  {
   "cell_type": "code",
   "execution_count": 250,
   "metadata": {},
   "outputs": [
    {
     "data": {
      "text/plain": [
       "array([[ 1.0000000e+00, -3.0000000e+00,  9.0000000e+00, ...,\n",
       "         4.7829690e+06, -1.4348907e+07,  4.3046721e+07],\n",
       "       [ 1.0000000e+00, -3.0000000e+00,  9.0000000e+00, ...,\n",
       "         4.7829690e+06, -1.4348907e+07,  4.3046721e+07],\n",
       "       [ 1.0000000e+00, -3.0000000e+00,  9.0000000e+00, ...,\n",
       "         4.7829690e+06, -1.4348907e+07,  4.3046721e+07],\n",
       "       ...,\n",
       "       [ 1.0000000e+00, -3.0000000e+00,  9.0000000e+00, ...,\n",
       "         4.7829690e+06, -1.4348907e+07,  4.3046721e+07],\n",
       "       [ 1.0000000e+00, -3.0000000e+00,  9.0000000e+00, ...,\n",
       "         4.7829690e+06, -1.4348907e+07,  4.3046721e+07],\n",
       "       [ 1.0000000e+00, -3.0000000e+00,  9.0000000e+00, ...,\n",
       "         4.7829690e+06, -1.4348907e+07,  4.3046721e+07]])"
      ]
     },
     "execution_count": 250,
     "metadata": {},
     "output_type": "execute_result"
    }
   ],
   "source": [
    "# prediction of new data set\n",
    "x_new=np.linspace(-3,-3,200).reshape(200,1)\n",
    "x_new_poly=poly.transform(x_new)\n",
    "x_new_poly"
   ]
  },
  {
   "cell_type": "code",
   "execution_count": 251,
   "metadata": {},
   "outputs": [
    {
     "data": {
      "image/png": "[encoded data removed]",
      "text/plain": [
       "<Figure size 640x480 with 1 Axes>"
      ]
     },
     "metadata": {},
     "output_type": "display_data"
    }
   ],
   "source": [
    "y_new=regression.predict(x_new_poly)\n",
    "plt.plot(x_new,y_new,'r.',linewidth=2,label=\" new predictions\")\n",
    "plt.plot(x_train,y_train,\"b.\",label=\"training points\")\n",
    "plt.plot(x_test,y_test,\"g.\",label=\"testing points\")\n",
    "plt.xlabel(\"x\")\n",
    "plt.ylabel(\"y\")\n",
    "plt.legend()\n",
    "plt.show()"
   ]
  },
  {
   "cell_type": "code",
   "execution_count": null,
   "metadata": {},
   "outputs": [],
   "source": [
    "def poly_regression(degree):\n",
    "    x_new=np.linspace(-3,3,200).reshape(200,1)\n",
    "    poly_features=PolynomialFeatures(degree=degree,include_bias=True)\n",
    "    lin_reg=LinearRegression()\n",
    "    poly_regression=Pipeline([(\"poly features\",poly_features),(\"lin_reg\",lin_reg)])\n",
    "    poly_regression.fit(x_train,y_train)\n",
    "    y_pred_new=pol"
   ]
  }
 ],
 "metadata": {
  "kernelspec": {
   "display_name": "base",
   "language": "python",
   "name": "python3"
  },
  "language_info": {
   "codemirror_mode": {
    "name": "ipython",
    "version": 3
   },
   "file_extension": ".py",
   "mimetype": "text/x-python",
   "name": "python",
   "nbconvert_exporter": "python",
   "pygments_lexer": "ipython3",
   "version": "3.12.7"
  }
 },
 "nbformat": 4,
 "nbformat_minor": 2
}
